{
 "cells": [
  {
   "cell_type": "code",
   "execution_count": 13,
   "metadata": {},
   "outputs": [],
   "source": [
    "import numpy as np\n",
    "import pandas as pd\n",
    "import matplotlib.pyplot as plt\n",
    "import tensorflow as tf\n",
    "from tensorflow.keras.models import load_model\n",
    "from sklearn.metrics import mean_absolute_percentage_error, mean_squared_log_error, mean_squared_error\n",
    "import joblib\n",
    "from pathlib import Path\n",
    "import os\n",
    "\n"
   ]
  },
  {
   "cell_type": "markdown",
   "metadata": {},
   "source": [
    "## Model Evaluation "
   ]
  },
  {
   "cell_type": "code",
   "execution_count": 14,
   "metadata": {},
   "outputs": [],
   "source": [
    "\n",
    "class ModelEvaluator:\n",
    "    def __init__(self, project_root=None):\n",
    "        \"\"\"Initialize evaluator with project paths\n",
    "        Args:\n",
    "            project_root: Optional path to project root. If None, will try to detect automatically.\n",
    "        \"\"\"\n",
    "        # Setup paths\n",
    "        if project_root is None:\n",
    "            try:\n",
    "                # Try script-style path resolution\n",
    "                self.project_root = Path(__file__).parents[3]\n",
    "            except NameError:\n",
    "                # Fallback for notebook environment\n",
    "                current_dir = Path(os.getcwd())\n",
    "                # Assuming notebook is in src/predictions/prices/\n",
    "                self.project_root = current_dir.parents[3]\n",
    "        else:\n",
    "            self.project_root = Path(project_root)\n",
    "            \n",
    "        self.models_dir = self.project_root / \"models/saved\"\n",
    "        self.test_data_dir = self.project_root / \"models/test_data\"\n",
    "        \n",
    "        # Verify paths exist\n",
    "        if not self.models_dir.exists() or not self.test_data_dir.exists():\n",
    "            raise FileNotFoundError(\n",
    "                f\"Required directories not found. Please ensure the following paths exist:\\n\"\n",
    "                f\"Models dir: {self.models_dir}\\n\"\n",
    "                f\"Test data dir: {self.test_data_dir}\"\n",
    "            )\n",
    "        \n",
    "        # Load model and scaler\n",
    "        try:\n",
    "            self.model = load_model(self.models_dir / \"best_model.keras\")\n",
    "            self.scaler = joblib.load(self.models_dir / \"scaler.save\")\n",
    "        except Exception as e:\n",
    "            raise Exception(f\"Error loading model or scaler: {str(e)}\")\n",
    "        \n",
    "        # Load test data\n",
    "        try:\n",
    "            self.X_test = np.load(self.test_data_dir / \"X_test.npy\")\n",
    "            self.y_test = np.load(self.test_data_dir / \"y_test.npy\")\n",
    "            self.test_timestamps = np.load(\n",
    "                self.test_data_dir / \"test_timestamps.npy\", \n",
    "                allow_pickle=True\n",
    "            )\n",
    "        except Exception as e:\n",
    "            raise Exception(f\"Error loading test data: {str(e)}\")\n",
    "\n",
    "    def evaluate(self):\n",
    "        # -------------------------------\n",
    "        # 3. Make Predictions on the Test Set\n",
    "        # -------------------------------\n",
    "        y_pred = self.model.predict(self.X_test)\n",
    "\n",
    "        # Inverse transform predictions and true values to original scale\n",
    "        y_pred_inv = self.scaler.inverse_transform(y_pred)\n",
    "        y_test_inv  = self.scaler.inverse_transform(self.y_test)\n",
    "\n",
    "        # -------------------------------\n",
    "        # 4. Calculate Error Metrics\n",
    "        # -------------------------------\n",
    "        mape = mean_absolute_percentage_error(y_test_inv, y_pred_inv)\n",
    "        # msle = mean_squared_log_error(y_test_inv, y_pred_inv)\n",
    "        mse  = mean_squared_error(y_test_inv, y_pred_inv)\n",
    "        rmse = mse**0.5\n",
    "\n",
    "        print(f\"MAPE: {mape:.4f}\")\n",
    "        # print(f\"MSLE: {msle:.4f}\")\n",
    "        print(f\"MSE: {mse:.4f}\")\n",
    "        print(f\"RMSE: {rmse:.4f}\")\n",
    "\n",
    "        # Calculate a custom peak error (mean error on the top 10% values)\n",
    "        def peak_error(y_true, y_pred):\n",
    "            y_true_series = pd.Series(y_true.flatten())\n",
    "            threshold = y_true_series.quantile(0.9)\n",
    "            peak_indices = y_true_series[y_true_series > threshold].index\n",
    "            return np.mean(np.abs(y_true.flatten()[peak_indices] - y_pred.flatten()[peak_indices]))\n",
    "\n",
    "        peak_err = peak_error(y_test_inv, y_pred_inv)\n",
    "        print(f\"Peak Error: {peak_err:.4f}\")\n",
    "\n",
    "        # -------------------------------\n",
    "        # 5. Plot Predictions vs. Actual Values\n",
    "        # -------------------------------\n",
    "        plt.figure(figsize=(15, 5))\n",
    "        plt.plot(self.test_timestamps, y_test_inv, label=\"Actual Prices\")\n",
    "        plt.plot(self.test_timestamps, y_pred_inv, label=\"Predicted Prices\", linestyle=\"dashed\")\n",
    "        plt.title(\"LSTM Forecasting: Actual vs. Predicted Prices (Test Data)\")\n",
    "        plt.xlabel(\"Time\")\n",
    "        plt.ylabel(\"Price\")\n",
    "        plt.legend()\n",
    "        plt.show()"
   ]
  },
  {
   "cell_type": "markdown",
   "metadata": {},
   "source": [
    "## Run Evaluation"
   ]
  },
  {
   "cell_type": "code",
   "execution_count": 15,
   "metadata": {},
   "outputs": [
    {
     "name": "stdout",
     "output_type": "stream",
     "text": [
      "\u001b[1m1013/1013\u001b[0m \u001b[32m━━━━━━━━━━━━━━━━━━━━\u001b[0m\u001b[37m\u001b[0m \u001b[1m4s\u001b[0m 4ms/step\n"
     ]
    },
    {
     "ename": "ValueError",
     "evalue": "Expected 2D array, got 1D array instead:\narray=[0.07146429 0.07144103 0.07122011 ... 0.09823142 0.08383624 0.07208056].\nReshape your data either using array.reshape(-1, 1) if your data has a single feature or array.reshape(1, -1) if it contains a single sample.",
     "output_type": "error",
     "traceback": [
      "\u001b[1;31m---------------------------------------------------------------------------\u001b[0m",
      "\u001b[1;31mValueError\u001b[0m                                Traceback (most recent call last)",
      "Cell \u001b[1;32mIn[15], line 4\u001b[0m\n\u001b[0;32m      1\u001b[0m project_root \u001b[38;5;241m=\u001b[39m Path(os\u001b[38;5;241m.\u001b[39mgetcwd())\u001b[38;5;241m.\u001b[39mparents[\u001b[38;5;241m2\u001b[39m]  \u001b[38;5;66;03m# Adjust the number of parents as needed\u001b[39;00m\n\u001b[0;32m      2\u001b[0m evaluator \u001b[38;5;241m=\u001b[39m ModelEvaluator(project_root\u001b[38;5;241m=\u001b[39mproject_root)\n\u001b[1;32m----> 4\u001b[0m \u001b[43mevaluator\u001b[49m\u001b[38;5;241;43m.\u001b[39;49m\u001b[43mevaluate\u001b[49m\u001b[43m(\u001b[49m\u001b[43m)\u001b[49m\n",
      "Cell \u001b[1;32mIn[14], line 57\u001b[0m, in \u001b[0;36mModelEvaluator.evaluate\u001b[1;34m(self)\u001b[0m\n\u001b[0;32m     55\u001b[0m \u001b[38;5;66;03m# Inverse transform predictions and true values to original scale\u001b[39;00m\n\u001b[0;32m     56\u001b[0m y_pred_inv \u001b[38;5;241m=\u001b[39m \u001b[38;5;28mself\u001b[39m\u001b[38;5;241m.\u001b[39mscaler\u001b[38;5;241m.\u001b[39minverse_transform(y_pred)\n\u001b[1;32m---> 57\u001b[0m y_test_inv  \u001b[38;5;241m=\u001b[39m \u001b[38;5;28;43mself\u001b[39;49m\u001b[38;5;241;43m.\u001b[39;49m\u001b[43mscaler\u001b[49m\u001b[38;5;241;43m.\u001b[39;49m\u001b[43minverse_transform\u001b[49m\u001b[43m(\u001b[49m\u001b[38;5;28;43mself\u001b[39;49m\u001b[38;5;241;43m.\u001b[39;49m\u001b[43my_test\u001b[49m\u001b[43m)\u001b[49m\n\u001b[0;32m     59\u001b[0m \u001b[38;5;66;03m# -------------------------------\u001b[39;00m\n\u001b[0;32m     60\u001b[0m \u001b[38;5;66;03m# 4. Calculate Error Metrics\u001b[39;00m\n\u001b[0;32m     61\u001b[0m \u001b[38;5;66;03m# -------------------------------\u001b[39;00m\n\u001b[0;32m     62\u001b[0m mape \u001b[38;5;241m=\u001b[39m mean_absolute_percentage_error(y_test_inv, y_pred_inv)\n",
      "File \u001b[1;32m~\\AppData\\Local\\Packages\\PythonSoftwareFoundation.Python.3.12_qbz5n2kfra8p0\\LocalCache\\local-packages\\Python312\\site-packages\\sklearn\\preprocessing\\_data.py:573\u001b[0m, in \u001b[0;36mMinMaxScaler.inverse_transform\u001b[1;34m(self, X)\u001b[0m\n\u001b[0;32m    569\u001b[0m check_is_fitted(\u001b[38;5;28mself\u001b[39m)\n\u001b[0;32m    571\u001b[0m xp, _ \u001b[38;5;241m=\u001b[39m get_namespace(X)\n\u001b[1;32m--> 573\u001b[0m X \u001b[38;5;241m=\u001b[39m \u001b[43mcheck_array\u001b[49m\u001b[43m(\u001b[49m\n\u001b[0;32m    574\u001b[0m \u001b[43m    \u001b[49m\u001b[43mX\u001b[49m\u001b[43m,\u001b[49m\n\u001b[0;32m    575\u001b[0m \u001b[43m    \u001b[49m\u001b[43mcopy\u001b[49m\u001b[38;5;241;43m=\u001b[39;49m\u001b[38;5;28;43mself\u001b[39;49m\u001b[38;5;241;43m.\u001b[39;49m\u001b[43mcopy\u001b[49m\u001b[43m,\u001b[49m\n\u001b[0;32m    576\u001b[0m \u001b[43m    \u001b[49m\u001b[43mdtype\u001b[49m\u001b[38;5;241;43m=\u001b[39;49m\u001b[43m_array_api\u001b[49m\u001b[38;5;241;43m.\u001b[39;49m\u001b[43msupported_float_dtypes\u001b[49m\u001b[43m(\u001b[49m\u001b[43mxp\u001b[49m\u001b[43m)\u001b[49m\u001b[43m,\u001b[49m\n\u001b[0;32m    577\u001b[0m \u001b[43m    \u001b[49m\u001b[43mforce_writeable\u001b[49m\u001b[38;5;241;43m=\u001b[39;49m\u001b[38;5;28;43;01mTrue\u001b[39;49;00m\u001b[43m,\u001b[49m\n\u001b[0;32m    578\u001b[0m \u001b[43m    \u001b[49m\u001b[43mensure_all_finite\u001b[49m\u001b[38;5;241;43m=\u001b[39;49m\u001b[38;5;124;43m\"\u001b[39;49m\u001b[38;5;124;43mallow-nan\u001b[39;49m\u001b[38;5;124;43m\"\u001b[39;49m\u001b[43m,\u001b[49m\n\u001b[0;32m    579\u001b[0m \u001b[43m\u001b[49m\u001b[43m)\u001b[49m\n\u001b[0;32m    581\u001b[0m X \u001b[38;5;241m-\u001b[39m\u001b[38;5;241m=\u001b[39m \u001b[38;5;28mself\u001b[39m\u001b[38;5;241m.\u001b[39mmin_\n\u001b[0;32m    582\u001b[0m X \u001b[38;5;241m/\u001b[39m\u001b[38;5;241m=\u001b[39m \u001b[38;5;28mself\u001b[39m\u001b[38;5;241m.\u001b[39mscale_\n",
      "File \u001b[1;32m~\\AppData\\Local\\Packages\\PythonSoftwareFoundation.Python.3.12_qbz5n2kfra8p0\\LocalCache\\local-packages\\Python312\\site-packages\\sklearn\\utils\\validation.py:1093\u001b[0m, in \u001b[0;36mcheck_array\u001b[1;34m(array, accept_sparse, accept_large_sparse, dtype, order, copy, force_writeable, force_all_finite, ensure_all_finite, ensure_non_negative, ensure_2d, allow_nd, ensure_min_samples, ensure_min_features, estimator, input_name)\u001b[0m\n\u001b[0;32m   1086\u001b[0m         \u001b[38;5;28;01melse\u001b[39;00m:\n\u001b[0;32m   1087\u001b[0m             msg \u001b[38;5;241m=\u001b[39m (\n\u001b[0;32m   1088\u001b[0m                 \u001b[38;5;124mf\u001b[39m\u001b[38;5;124m\"\u001b[39m\u001b[38;5;124mExpected 2D array, got 1D array instead:\u001b[39m\u001b[38;5;130;01m\\n\u001b[39;00m\u001b[38;5;124marray=\u001b[39m\u001b[38;5;132;01m{\u001b[39;00marray\u001b[38;5;132;01m}\u001b[39;00m\u001b[38;5;124m.\u001b[39m\u001b[38;5;130;01m\\n\u001b[39;00m\u001b[38;5;124m\"\u001b[39m\n\u001b[0;32m   1089\u001b[0m                 \u001b[38;5;124m\"\u001b[39m\u001b[38;5;124mReshape your data either using array.reshape(-1, 1) if \u001b[39m\u001b[38;5;124m\"\u001b[39m\n\u001b[0;32m   1090\u001b[0m                 \u001b[38;5;124m\"\u001b[39m\u001b[38;5;124myour data has a single feature or array.reshape(1, -1) \u001b[39m\u001b[38;5;124m\"\u001b[39m\n\u001b[0;32m   1091\u001b[0m                 \u001b[38;5;124m\"\u001b[39m\u001b[38;5;124mif it contains a single sample.\u001b[39m\u001b[38;5;124m\"\u001b[39m\n\u001b[0;32m   1092\u001b[0m             )\n\u001b[1;32m-> 1093\u001b[0m         \u001b[38;5;28;01mraise\u001b[39;00m \u001b[38;5;167;01mValueError\u001b[39;00m(msg)\n\u001b[0;32m   1095\u001b[0m \u001b[38;5;28;01mif\u001b[39;00m dtype_numeric \u001b[38;5;129;01mand\u001b[39;00m \u001b[38;5;28mhasattr\u001b[39m(array\u001b[38;5;241m.\u001b[39mdtype, \u001b[38;5;124m\"\u001b[39m\u001b[38;5;124mkind\u001b[39m\u001b[38;5;124m\"\u001b[39m) \u001b[38;5;129;01mand\u001b[39;00m array\u001b[38;5;241m.\u001b[39mdtype\u001b[38;5;241m.\u001b[39mkind \u001b[38;5;129;01min\u001b[39;00m \u001b[38;5;124m\"\u001b[39m\u001b[38;5;124mUSV\u001b[39m\u001b[38;5;124m\"\u001b[39m:\n\u001b[0;32m   1096\u001b[0m     \u001b[38;5;28;01mraise\u001b[39;00m \u001b[38;5;167;01mValueError\u001b[39;00m(\n\u001b[0;32m   1097\u001b[0m         \u001b[38;5;124m\"\u001b[39m\u001b[38;5;124mdtype=\u001b[39m\u001b[38;5;124m'\u001b[39m\u001b[38;5;124mnumeric\u001b[39m\u001b[38;5;124m'\u001b[39m\u001b[38;5;124m is not compatible with arrays of bytes/strings.\u001b[39m\u001b[38;5;124m\"\u001b[39m\n\u001b[0;32m   1098\u001b[0m         \u001b[38;5;124m\"\u001b[39m\u001b[38;5;124mConvert your data to numeric values explicitly instead.\u001b[39m\u001b[38;5;124m\"\u001b[39m\n\u001b[0;32m   1099\u001b[0m     )\n",
      "\u001b[1;31mValueError\u001b[0m: Expected 2D array, got 1D array instead:\narray=[0.07146429 0.07144103 0.07122011 ... 0.09823142 0.08383624 0.07208056].\nReshape your data either using array.reshape(-1, 1) if your data has a single feature or array.reshape(1, -1) if it contains a single sample."
     ]
    }
   ],
   "source": [
    "\n",
    "project_root = Path(os.getcwd()).parents[2]  # Adjust the number of parents as needed\n",
    "evaluator = ModelEvaluator(project_root=project_root)\n",
    "\n",
    "evaluator.evaluate()\n",
    "\n"
   ]
  }
 ],
 "metadata": {
  "kernelspec": {
   "display_name": "Python 3",
   "language": "python",
   "name": "python3"
  },
  "language_info": {
   "codemirror_mode": {
    "name": "ipython",
    "version": 3
   },
   "file_extension": ".py",
   "mimetype": "text/x-python",
   "name": "python",
   "nbconvert_exporter": "python",
   "pygments_lexer": "ipython3",
   "version": "3.12.9"
  }
 },
 "nbformat": 4,
 "nbformat_minor": 2
}
