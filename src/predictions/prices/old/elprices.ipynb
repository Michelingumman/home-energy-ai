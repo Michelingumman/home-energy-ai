{
 "cells": [
  {
   "cell_type": "code",
   "execution_count": 1,
   "metadata": {},
   "outputs": [],
   "source": [
    "import pandas as pd\n",
    "import numpy as np\n",
    "import matplotlib.pyplot as plt\n",
    "from sklearn.model_selection import train_test_split\n",
    "from sklearn.ensemble import RandomForestRegressor\n",
    "from sklearn.metrics import mean_absolute_error\n"
   ]
  },
  {
   "cell_type": "markdown",
   "metadata": {},
   "source": [
    "# Load the dataset"
   ]
  },
  {
   "cell_type": "code",
   "execution_count": null,
   "metadata": {},
   "outputs": [
    {
     "name": "stdout",
     "output_type": "stream",
     "text": [
      "There are no missing values in the old dataset\n"
     ]
    }
   ],
   "source": [
    "file_path = \"C:/_Projects/home-energy-ai/data/raw/Elspotprices/sweden_elspot_prices.csv\"\n",
    "df = pd.read_csv(file_path, parse_dates=[\"cet_cest_timestamp\"], index_col=\"cet_cest_timestamp\")\n",
    "\n",
    "# Filter SE3 day-ahead prices\n",
    "df_se3 = df[[\"SE3\"]].ffill().bfill()\n",
    "\n",
    "if df_se3.isnull().values.any():\n",
    "    print(\"There are missing values in the dataset\")\n",
    "else :\n",
    "    print(\"There are no missing values in the dataset\")\n",
    "# Ensure index is in datetime format\n",
    "df_se3.index = pd.to_datetime(df_se3.index, utc=True)\n",
    "df_se3.index = df_se3.index.tz_localize(None)\n",
    "\n",
    "df_se3.head()"
   ]
  },
  {
   "cell_type": "markdown",
   "metadata": {},
   "source": [
    "# Feature engineering"
   ]
  },
  {
   "cell_type": "code",
   "execution_count": null,
   "metadata": {},
   "outputs": [
    {
     "data": {
      "text/html": [
       "<div>\n",
       "<style scoped>\n",
       "    .dataframe tbody tr th:only-of-type {\n",
       "        vertical-align: middle;\n",
       "    }\n",
       "\n",
       "    .dataframe tbody tr th {\n",
       "        vertical-align: top;\n",
       "    }\n",
       "\n",
       "    .dataframe thead th {\n",
       "        text-align: right;\n",
       "    }\n",
       "</style>\n",
       "<table border=\"1\" class=\"dataframe\">\n",
       "  <thead>\n",
       "    <tr style=\"text-align: right;\">\n",
       "      <th></th>\n",
       "      <th>SE3</th>\n",
       "      <th>hour</th>\n",
       "      <th>dayofweek</th>\n",
       "      <th>month</th>\n",
       "      <th>year</th>\n",
       "    </tr>\n",
       "    <tr>\n",
       "      <th>cet_cest_timestamp</th>\n",
       "      <th></th>\n",
       "      <th></th>\n",
       "      <th></th>\n",
       "      <th></th>\n",
       "      <th></th>\n",
       "    </tr>\n",
       "  </thead>\n",
       "  <tbody>\n",
       "    <tr>\n",
       "      <th>2014-12-31 23:00:00</th>\n",
       "      <td>19.33</td>\n",
       "      <td>23</td>\n",
       "      <td>2</td>\n",
       "      <td>12</td>\n",
       "      <td>2014</td>\n",
       "    </tr>\n",
       "    <tr>\n",
       "      <th>2015-01-01 00:00:00</th>\n",
       "      <td>19.33</td>\n",
       "      <td>0</td>\n",
       "      <td>3</td>\n",
       "      <td>1</td>\n",
       "      <td>2015</td>\n",
       "    </tr>\n",
       "    <tr>\n",
       "      <th>2015-01-01 01:00:00</th>\n",
       "      <td>19.33</td>\n",
       "      <td>1</td>\n",
       "      <td>3</td>\n",
       "      <td>1</td>\n",
       "      <td>2015</td>\n",
       "    </tr>\n",
       "    <tr>\n",
       "      <th>2015-01-01 02:00:00</th>\n",
       "      <td>17.66</td>\n",
       "      <td>2</td>\n",
       "      <td>3</td>\n",
       "      <td>1</td>\n",
       "      <td>2015</td>\n",
       "    </tr>\n",
       "    <tr>\n",
       "      <th>2015-01-01 03:00:00</th>\n",
       "      <td>17.53</td>\n",
       "      <td>3</td>\n",
       "      <td>3</td>\n",
       "      <td>1</td>\n",
       "      <td>2015</td>\n",
       "    </tr>\n",
       "  </tbody>\n",
       "</table>\n",
       "</div>"
      ],
      "text/plain": [
       "                       SE3  hour  dayofweek  month  year\n",
       "cet_cest_timestamp                                      \n",
       "2014-12-31 23:00:00  19.33    23          2     12  2014\n",
       "2015-01-01 00:00:00  19.33     0          3      1  2015\n",
       "2015-01-01 01:00:00  19.33     1          3      1  2015\n",
       "2015-01-01 02:00:00  17.66     2          3      1  2015\n",
       "2015-01-01 03:00:00  17.53     3          3      1  2015"
      ]
     },
     "execution_count": 26,
     "metadata": {},
     "output_type": "execute_result"
    }
   ],
   "source": [
    "df_se3['hour'] = df_se3.index.hour\n",
    "df_se3['dayofweek'] = df_se3.index.dayofweek\n",
    "df_se3['month'] = df_se3.index.month\n",
    "df_se3['year'] = df_se3.index.year\n",
    "\n",
    "df_se3.head()"
   ]
  },
  {
   "cell_type": "markdown",
   "metadata": {},
   "source": [
    "# Train-test split"
   ]
  },
  {
   "cell_type": "code",
   "execution_count": null,
   "metadata": {},
   "outputs": [],
   "source": [
    "train = df_se3.loc[df_se3.index < '2019-01-01']\n",
    "test = df_se3.loc[df_se3.index >= '2019-01-01']\n",
    "\n",
    "X_train = train.drop(columns=['SE_3_price_day_ahead'])\n",
    "y_train = train['SE_3_price_day_ahead']\n",
    "X_test = test.drop(columns=['SE_3_price_day_ahead'])\n",
    "y_test = test['SE_3_price_day_ahead']"
   ]
  },
  {
   "cell_type": "markdown",
   "metadata": {},
   "source": [
    "# Train a model"
   ]
  },
  {
   "cell_type": "code",
   "execution_count": null,
   "metadata": {},
   "outputs": [],
   "source": [
    "model = RandomForestRegressor(n_estimators=100, random_state=42)\n",
    "model.fit(X_train, y_train)\n",
    "\n",
    "# Predict and evaluate\n",
    "y_pred = model.predict(X_test)\n",
    "mae = mean_absolute_error(y_test, y_pred)\n",
    "print(f\"Mean Absolute Error: {mae}\")\n"
   ]
  },
  {
   "cell_type": "markdown",
   "metadata": {},
   "source": [
    "# Visualization"
   ]
  },
  {
   "cell_type": "code",
   "execution_count": null,
   "metadata": {},
   "outputs": [],
   "source": [
    "fig, ax = plt.subplots(figsize=(15, 4))\n",
    "test['SE_3_price_day_ahead'].plot(ax=ax, label='Actual Prices', title='SE3 Day-Ahead Price Prediction')\n",
    "ax.plot(test.index, y_pred, label='Predicted Prices', linestyle='dashed')\n",
    "ax.axvline('2025-01-01', color='black', ls='--')\n",
    "ax.legend(['Actual Prices', 'Predicted Prices'])\n",
    "plt.show()\n"
   ]
  }
 ],
 "metadata": {
  "kernelspec": {
   "display_name": "Python 3",
   "language": "python",
   "name": "python3"
  },
  "language_info": {
   "codemirror_mode": {
    "name": "ipython",
    "version": 3
   },
   "file_extension": ".py",
   "mimetype": "text/x-python",
   "name": "python",
   "nbconvert_exporter": "python",
   "pygments_lexer": "ipython3",
   "version": "3.12.9"
  }
 },
 "nbformat": 4,
 "nbformat_minor": 2
}
